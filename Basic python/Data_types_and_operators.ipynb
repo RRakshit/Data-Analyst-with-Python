{
 "cells": [
  {
   "cell_type": "code",
   "execution_count": null,
   "metadata": {},
   "outputs": [],
   "source": [
    "# Arithmatic operators \n",
    "\n",
    "#addition and multiplication\n",
    "print(3+5*2)\n",
    "\n",
    "#multiplication and division\n",
    "print(3*5/2)\n",
    "\n",
    "#substraction and integer division\n",
    "print(3-5//2)\n",
    "\n",
    "#division and exponentiation\n",
    "print(3/5**2)\n",
    "\n",
    "#caret\n",
    "print(3^2)\n",
    "print(2^3)\n",
    "print(3^8)\n",
    "\n",
    "#modulus\n",
    "print(3%2)"
   ]
  },
  {
   "cell_type": "code",
   "execution_count": null,
   "metadata": {},
   "outputs": [],
   "source": [
    "# Assignment operator\n",
    "\n",
    "x=int(input('enter value'))\n",
    "# increament by 2\n",
    "x+=2\n",
    "print('increament =',x)\n",
    "# decreament by 4\n",
    "x-=4\n",
    "print('decreament =' ,x)"
   ]
  },
  {
   "cell_type": "code",
   "execution_count": null,
   "metadata": {},
   "outputs": [],
   "source": [
    "# variable\n",
    "\n",
    "# \"x\" = variable name, \"=\" assignment operator, \"2\" = variable \n",
    "x=2\n",
    "y=x\n",
    "print(y)"
   ]
  },
  {
   "cell_type": "code",
   "execution_count": null,
   "metadata": {},
   "outputs": [],
   "source": [
    "# integer and float\n",
    "\n",
    "print(int(12.12))\n",
    "print(float(12))"
   ]
  },
  {
   "cell_type": "code",
   "execution_count": null,
   "metadata": {},
   "outputs": [],
   "source": [
    "# Booleans operators \n",
    "# it is use to find true or false\n",
    "\n",
    "x = 42 > 43\n",
    "print(\"X =\",x)\n",
    "y = 42 < 43\n",
    "print(\"Y =\",y)"
   ]
  },
  {
   "cell_type": "code",
   "execution_count": null,
   "metadata": {},
   "outputs": [],
   "source": [
    "# Compare and Logical operator\n",
    "\n",
    "age=14\n",
    "is_teen = age > 12 and age < 20\n",
    "print(is_teen)\n",
    "is_teen = not age > 12  \n",
    "print(is_teen)"
   ]
  },
  {
   "cell_type": "code",
   "execution_count": null,
   "metadata": {},
   "outputs": [],
   "source": [
    "# String Functions\n",
    "\n",
    "a='rakshit'\n",
    "b='humane'\n",
    "\n",
    "# \"+\" it is use to joint \n",
    "print(a+\" \"+b)\n",
    "\n",
    "# \"*\" it is use to print multiple\n",
    "print(a * 5)\n",
    "\n",
    "# len() define lenth of object\n",
    "print(len(a))"
   ]
  },
  {
   "cell_type": "code",
   "execution_count": null,
   "metadata": {},
   "outputs": [],
   "source": [
    "# type and type conversion\n",
    "# \"type\" this function return a type of object\n",
    "\n",
    "print(type(4))\n",
    "print(type(4.0))\n",
    "print(type('4'))\n",
    "\n"
   ]
  },
  {
   "cell_type": "code",
   "execution_count": null,
   "metadata": {},
   "outputs": [],
   "source": [
    "# String Methods\n",
    "\n",
    "my_string = \"rakshit humane\"\n",
    "\n",
    "# title, capitalize etc methods\n",
    "a=my_string.title()\n",
    "print(a)"
   ]
  },
  {
   "cell_type": "code",
   "execution_count": 1,
   "metadata": {},
   "outputs": [
    {
     "name": "stdout",
     "output_type": "stream",
     "text": [
      "[1, 3.4, 'a string', True]\n",
      "[1, 3.4, 'a string', True]\n",
      "[1, 3.4, 'a string', True]\n",
      "['one', 2, 3, 4, 5]\n",
      "4\n",
      "2\n",
      "Albert & Ben & Carol & Donna\n",
      "['Albert', 'Ben', 'Carol', 'Donna', 'Eugenia']\n"
     ]
    }
   ],
   "source": [
    "#list Methods\n",
    "\n",
    "#list it consist of int,float,str etc.\n",
    "list_of_random_things = [1, 3.4, 'a string', True]\n",
    "\n",
    "#print the specific thing\n",
    "list_of_random_things[2]\n",
    "print(list_of_random_things)\n",
    "\n",
    "#lower index is inclusive and upper index is exclusive i.e. slicing\n",
    "list_of_random_things[1:3]\n",
    "print(list_of_random_things)\n",
    "\n",
    "#inclusive\n",
    "list_of_random_things[1:]\n",
    "print(list_of_random_things)\n",
    "\n",
    "#\"in\" use to find word in string\n",
    "'this' in 'this is a string'\n",
    "\n",
    "#\"not\" in use to check no. in a list\n",
    "5 not in [1, 2, 3, 4, 6]\n",
    "\n",
    "#list we can change it '1' to 'one' i.e. mutable\n",
    "my_lst = [1, 2, 3, 4, 5]\n",
    "my_lst[0] = 'one'\n",
    "print(my_lst)\n",
    "\n",
    "#string we can't change if we change then change complete string\n",
    "\n",
    "#len,max,min\n",
    "a = [1, 5, 8]\n",
    "b = [2, 6, 9, 10]\n",
    "c = [100, 200]\n",
    "\n",
    "print(max([len(a), len(b), len(c)]))\n",
    "print(min([len(a), len(b), len(c)]))\n",
    "\n",
    "#sorted and joint\n",
    "names = [\"Carol\", \"Albert\", \"Ben\", \"Donna\"]\n",
    "print(\" & \".join(sorted(names)))\n",
    "\n",
    "#append\n",
    "names = [\"Carol\", \"Albert\", \"Ben\", \"Donna\"]\n",
    "names.append(\"Eugenia\")\n",
    "print(sorted(names))"
   ]
  },
  {
   "cell_type": "code",
   "execution_count": null,
   "metadata": {},
   "outputs": [],
   "source": [
    "#Tuple\n",
    "\n",
    "#location values\n",
    "location = (13.4125, 103.866667)\n",
    "\n",
    "#assign a variable name\n",
    "print(\"Latitude:\", location[0])\n",
    "print(\"Longitude:\", location[1])\n",
    "\n",
    "#dimension values\n",
    "dimensions = 52, 40, 100\n",
    "\n",
    "#assign variable name length,width,height to dimension\n",
    "length, width, height = dimensions\n",
    "print(\"The dimensions are {} x {} x {}\".format(length, width, height))"
   ]
  },
  {
   "cell_type": "code",
   "execution_count": 1,
   "metadata": {},
   "outputs": [
    {
     "name": "stdout",
     "output_type": "stream",
     "text": [
      "{1, 2, 3, 6}\n",
      "3\n",
      "[1, 2, 6, 1, 1, 6]\n"
     ]
    }
   ],
   "source": [
    "#Sets\n",
    "#it is use to remove duplicate object\n",
    "\n",
    "#string of numbers\n",
    "numbers = [1, 2, 6, 3, 1, 1, 6]\n",
    "\n",
    "#apply set function\n",
    "unique_nums = set(numbers)\n",
    "print(unique_nums)\n",
    "\n",
    "#pop method use to remove object\n",
    "print(numbers.pop(3))\n",
    "print(numbers)"
   ]
  },
  {
   "cell_type": "code",
   "execution_count": null,
   "metadata": {},
   "outputs": [],
   "source": [
    "#Dictionaries\n",
    "#A dictionary is a mutable data type that stores mappings of unique keys to values\n",
    "elements = {\"hydrogen\": 1, \"helium\": 2, \"carbon\": 6}\n",
    "\n",
    "# print the value mapped to \"helium\"\n",
    "print(elements[\"helium\"])\n",
    "\n",
    "# insert \"lithium\" with a value of 3 into the dictionary\n",
    "elements[\"lithium\"] = 3 \n",
    "\n",
    "print(\"carbon\" in elements)\n",
    "\n",
    "#get is similar to in method find object in dict\n",
    "print(elements.get(\"dilithium\"))\n",
    "\n",
    "#Identity operator\n",
    "n = elements.get(\"dilithium\")\n",
    "print(n is None)\n",
    "print(n is not None)"
   ]
  },
  {
   "cell_type": "code",
   "execution_count": 2,
   "metadata": {},
   "outputs": [
    {
     "name": "stdout",
     "output_type": "stream",
     "text": [
      "elements =  {'hydrogen': {'number': 1, 'weight': 1.00794, 'symbol': 'H'}, 'helium': {'number': 2, 'weight': 4.002602, 'symbol': 'He'}, 'oxygen': {'number': 8, 'weight': 15.999, 'symbol': 'O'}}\n"
     ]
    }
   ],
   "source": [
    "#Compound Data Structure\n",
    "elements = {\"hydrogen\": {\"number\": 1,\n",
    "                         \"weight\": 1.00794,\n",
    "                         \"symbol\": \"H\"},\n",
    "              \"helium\": {\"number\": 2,\n",
    "                         \"weight\": 4.002602,\n",
    "                         \"symbol\": \"He\"}}\n",
    "\n",
    "\n",
    "# get the helium dictionary\n",
    "helium = elements[\"helium\"]\n",
    "\n",
    "# get hydrogen's weight\n",
    "hydrogen_weight = elements[\"hydrogen\"][\"weight\"]  \n",
    "\n",
    "# create a new oxygen dictionary\n",
    "oxygen = {\"number\":8,\"weight\":15.999,\"symbol\":\"O\"}\n",
    "\n",
    "# assign 'oxygen' as a key to the elements dictionary\n",
    "elements[\"oxygen\"] = oxygen  \n",
    "print('elements = ', elements)"
   ]
  },
  {
   "cell_type": "code",
   "execution_count": null,
   "metadata": {},
   "outputs": [],
   "source": []
  }
 ],
 "metadata": {
  "kernelspec": {
   "display_name": "Python 3",
   "language": "python",
   "name": "python3"
  },
  "language_info": {
   "codemirror_mode": {
    "name": "ipython",
    "version": 3
   },
   "file_extension": ".py",
   "mimetype": "text/x-python",
   "name": "python",
   "nbconvert_exporter": "python",
   "pygments_lexer": "ipython3",
   "version": "3.7.6"
  }
 },
 "nbformat": 4,
 "nbformat_minor": 2
}
