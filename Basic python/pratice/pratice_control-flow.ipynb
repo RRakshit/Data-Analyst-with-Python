{
 "cells": [
  {
   "cell_type": "code",
   "execution_count": 5,
   "metadata": {},
   "outputs": [
    {
     "name": "stdout",
     "output_type": "stream",
     "text": [
      "3 100\n",
      "13 90\n"
     ]
    }
   ],
   "source": [
    "#Condition Statement\n",
    "\n",
    "#in this example if phone balance less than 5 add phone balance from bank balance\n",
    "#If Statement\n",
    "phone_balance = 3\n",
    "bank_balance = 100\n",
    "print(phone_balance,bank_balance)\n",
    "if phone_balance < 5:\n",
    "    phone_balance +=10\n",
    "    bank_balance -=10\n",
    "    \n",
    "print(phone_balance,bank_balance)"
   ]
  },
  {
   "cell_type": "code",
   "execution_count": 12,
   "metadata": {},
   "outputs": [
    {
     "name": "stdout",
     "output_type": "stream",
     "text": [
      "enter a value 3\n",
      "enter value odd\n"
     ]
    }
   ],
   "source": [
    "#perform odd and even\n",
    "#If,Else\n",
    "n=int(input(\"enter a value \"))\n",
    "if n%2==0:\n",
    "    print(\"enter value is even\")\n",
    "else:\n",
    "    print(\"enter value odd\")\n",
    "    "
   ]
  },
  {
   "cell_type": "code",
   "execution_count": 16,
   "metadata": {},
   "outputs": [
    {
     "name": "stdout",
     "output_type": "stream",
     "text": [
      "enter a season:\tsummer\n",
      "water the garden!\n"
     ]
    }
   ],
   "source": [
    "#perform seasons in spring plant the garden,summer water the garden,fall harvest the garden,winter stay indoor,else unrecognized season\n",
    "#If,Else,Elif\n",
    "season=input(\"enter a season:\\t\")\n",
    "if season =='spring':\n",
    "    print(\"plant the garden!\")\n",
    "elif season =='summer':\n",
    "    print(\"water the garden!\")\n",
    "elif season =='fall':\n",
    "    print(\"harvest the garden!\")\n",
    "elif season =='winter':\n",
    "    print(\"stay indoor!\")\n",
    "else:\n",
    "    print(\"unrecognized season\")"
   ]
  },
  {
   "cell_type": "code",
   "execution_count": 17,
   "metadata": {},
   "outputs": [
    {
     "name": "stdout",
     "output_type": "stream",
     "text": [
      "new york city\n",
      "mountain view\n",
      "chicago\n",
      "los angeles\n",
      "0\n",
      "1\n",
      "2\n"
     ]
    }
   ],
   "source": [
    "#for Loop\n",
    "\n",
    "cities = ['new york city', 'mountain view', 'chicago', 'los angeles']\n",
    "for city in cities:\n",
    "    print(city)\n",
    "\n",
    "#range is 3 from for loop\n",
    "for i in range(3):\n",
    "    print(i)"
   ]
  },
  {
   "cell_type": "code",
   "execution_count": 19,
   "metadata": {},
   "outputs": [
    {
     "name": "stdout",
     "output_type": "stream",
     "text": [
      "5\n",
      "10\n",
      "15\n",
      "20\n",
      "25\n",
      "30\n"
     ]
    }
   ],
   "source": [
    "#Multiple of 5\n",
    "\n",
    "# Write a for loop using range() to print out multiples of 5 up to 30 inclusive\n",
    "for i in range(5, 35, 5):\n",
    "    print(i)"
   ]
  },
  {
   "cell_type": "code",
   "execution_count": 36,
   "metadata": {},
   "outputs": [
    {
     "name": "stdout",
     "output_type": "stream",
     "text": [
      "Jerry Seinfeld\n",
      "Julia Louis-Dreyfus\n",
      "Jason Alexander\n",
      "Michael Richards\n",
      "actor: Jerry Seinfeld   \trole: Jerry Seinfeld\n",
      "actor: Julia Louis-Dreyfus   \trole: Elaine Benes\n",
      "actor: Jason Alexander   \trole: George Costanza\n",
      "actor: Michael Richards   \trole: Cosmo Kramer\n"
     ]
    }
   ],
   "source": [
    "#Iterating\n",
    "cast = {\n",
    "           \"Jerry Seinfeld\": \"Jerry Seinfeld\",\n",
    "           \"Julia Louis-Dreyfus\": \"Elaine Benes\",\n",
    "           \"Jason Alexander\": \"George Costanza\",\n",
    "           \"Michael Richards\": \"Cosmo Kramer\"\n",
    "       }\n",
    "for key in cast:\n",
    "    print(key)\n",
    "#Iterate through both keys and values use the built-in method items\n",
    "for key, value in cast.items():\n",
    "    print(\"actor: {}   \\trole: {}\".format(key,value))\n"
   ]
  },
  {
   "cell_type": "code",
   "execution_count": 42,
   "metadata": {},
   "outputs": [
    {
     "name": "stdout",
     "output_type": "stream",
     "text": [
      "a : 1\n",
      "b : 2\n",
      "c : 3\n",
      "(('Barney', 72), ('Robin', 68), ('Ted', 72), ('Lily', 66), ('Marshall', 76))\n"
     ]
    }
   ],
   "source": [
    "#zip\n",
    "\n",
    "letters = ['a', 'b', 'c']\n",
    "nums = [1, 2, 3]\n",
    "for letters,nums in zip(letters,nums):\n",
    "    print(\"{} : {}\".format(letters,nums))\n",
    "\n",
    "#Unzip\n",
    "\n",
    "cast = ((\"Barney\", 72), (\"Robin\", 68), (\"Ted\", 72), (\"Lily\", 66), (\"Marshall\", 76))\n",
    "names,height=zip(*cast)\n",
    "print(cast)\n"
   ]
  },
  {
   "cell_type": "code",
   "execution_count": null,
   "metadata": {},
   "outputs": [],
   "source": []
  }
 ],
 "metadata": {
  "kernelspec": {
   "display_name": "Python 3",
   "language": "python",
   "name": "python3"
  },
  "language_info": {
   "codemirror_mode": {
    "name": "ipython",
    "version": 3
   },
   "file_extension": ".py",
   "mimetype": "text/x-python",
   "name": "python",
   "nbconvert_exporter": "python",
   "pygments_lexer": "ipython3",
   "version": "3.7.6"
  }
 },
 "nbformat": 4,
 "nbformat_minor": 4
}
