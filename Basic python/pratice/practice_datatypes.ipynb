{
 "cells": [
  {
   "cell_type": "code",
   "execution_count": 1,
   "metadata": {},
   "outputs": [
    {
     "name": "stdout",
     "output_type": "stream",
     "text": [
      "11\n",
      "3.0\n",
      "5\n",
      "1.5\n",
      "6\n",
      "0\n"
     ]
    }
   ],
   "source": [
    "# Arithmatic operators\n",
    "\n",
    "#addition and multiplication\n",
    "print(2+3*3)\n",
    "\n",
    "#multiplication and division\n",
    "print(2*3/2)\n",
    "\n",
    "#substraction and integer division\n",
    "print(6-2//2)\n",
    "\n",
    "#division and exponentiation\n",
    "print(6/2**2)\n",
    "\n",
    "#caret\n",
    "print(4^2)\n",
    "\n",
    "#modulus\n",
    "print(8%2)"
   ]
  },
  {
   "cell_type": "code",
   "execution_count": 2,
   "metadata": {},
   "outputs": [
    {
     "name": "stdout",
     "output_type": "stream",
     "text": [
      "enter value4\n",
      "6\n",
      "2\n"
     ]
    }
   ],
   "source": [
    "# Assignment operator\n",
    "\n",
    "x=int(input('enter value'))\n",
    "# increament by 2\n",
    "x+=2\n",
    "print(x)\n",
    "\n",
    "# decreament by 4\n",
    "x-=4\n",
    "print(x)"
   ]
  },
  {
   "cell_type": "code",
   "execution_count": 3,
   "metadata": {},
   "outputs": [
    {
     "name": "stdout",
     "output_type": "stream",
     "text": [
      "2\n"
     ]
    }
   ],
   "source": [
    "# variable\n",
    "\n",
    "# \"x\" = variable name, \"=\" assignment operator, \"2\" = variable \n",
    "x=2\n",
    "y=x\n",
    "print(y)"
   ]
  },
  {
   "cell_type": "code",
   "execution_count": 4,
   "metadata": {},
   "outputs": [
    {
     "name": "stdout",
     "output_type": "stream",
     "text": [
      "14\n",
      "100.0\n"
     ]
    }
   ],
   "source": [
    "# integer and float\n",
    "\n",
    "print(int(14.326))\n",
    "print(float(100))"
   ]
  },
  {
   "cell_type": "code",
   "execution_count": 5,
   "metadata": {},
   "outputs": [
    {
     "name": "stdout",
     "output_type": "stream",
     "text": [
      "False\n",
      "True\n"
     ]
    }
   ],
   "source": [
    "# Booleans operators \n",
    "# it is use to find true or false\n",
    "\n",
    "x=42 > 43\n",
    "print(x)\n",
    "x=43>42\n",
    "print(x)\n",
    "\n"
   ]
  },
  {
   "cell_type": "code",
   "execution_count": 3,
   "metadata": {},
   "outputs": [
    {
     "ename": "SyntaxError",
     "evalue": "invalid syntax (<ipython-input-3-a64889213101>, line 6)",
     "output_type": "error",
     "traceback": [
      "\u001b[1;36m  File \u001b[1;32m\"<ipython-input-3-a64889213101>\"\u001b[1;36m, line \u001b[1;32m6\u001b[0m\n\u001b[1;33m    is_teen= not in age > 12\u001b[0m\n\u001b[1;37m                  ^\u001b[0m\n\u001b[1;31mSyntaxError\u001b[0m\u001b[1;31m:\u001b[0m invalid syntax\n"
     ]
    }
   ],
   "source": [
    "# Compare and Logical operator\n",
    "\n",
    "age=14\n",
    "is_teen=age > 12 and age < 20\n",
    "print(is_teen)\n",
    "is_teen= not  age > 12\n",
    "print(is_teen)\n"
   ]
  },
  {
   "cell_type": "code",
   "execution_count": 7,
   "metadata": {},
   "outputs": [
    {
     "name": "stdout",
     "output_type": "stream",
     "text": [
      "rakshit humane\n",
      "rakshitrakshitrakshitrakshitrakshit\n",
      "7\n"
     ]
    }
   ],
   "source": [
    "# String Functions\n",
    "\n",
    "a='rakshit'\n",
    "b='humane'\n",
    "\n",
    "# \"+\" it is use to joint \n",
    "print(a+\" \"+b)\n",
    "\n",
    "# \"*\" it is use to print multiple\n",
    "print(a*5)\n",
    "\n",
    "# len() define lenth of object\n",
    "print(len(a))"
   ]
  },
  {
   "cell_type": "code",
   "execution_count": 8,
   "metadata": {},
   "outputs": [
    {
     "name": "stdout",
     "output_type": "stream",
     "text": [
      "<class 'int'>\n",
      "<class 'float'>\n",
      "<class 'str'>\n"
     ]
    }
   ],
   "source": [
    "# type and type conversion\n",
    "# \"type\" this function return a type of object\n",
    "print(type(44))\n",
    "print(type(44.44))\n",
    "print(type('44'))"
   ]
  },
  {
   "cell_type": "code",
   "execution_count": 11,
   "metadata": {},
   "outputs": [
    {
     "name": "stdout",
     "output_type": "stream",
     "text": [
      "Rakshit Humane\n"
     ]
    }
   ],
   "source": [
    "# String Methods\n",
    "\n",
    "my_string = \"rakshit humane\"\n",
    "\n",
    "# title, capitalize etc methods\n",
    "a=my_string.title()\n",
    "print(a)"
   ]
  },
  {
   "cell_type": "code",
   "execution_count": 1,
   "metadata": {},
   "outputs": [
    {
     "name": "stdout",
     "output_type": "stream",
     "text": [
      "[1, 3.4, 'a string', True]\n",
      "[1, 3.4, 'a string', True]\n",
      "[1, 3.4, 'a string', True]\n",
      "4\n",
      "2\n",
      "Albert&Ben&Carol&Donna\n",
      "['Albert', 'Ben', 'Carol', 'Donna', 'hero']\n"
     ]
    }
   ],
   "source": [
    "#list Methods\n",
    "\n",
    "#list it consist of int,float,str etc.\n",
    "list_of_random_things = [1, 3.4, 'a string', True]\n",
    "\n",
    "#print the specific thing\n",
    "list_of_random_things[2]\n",
    "print(list_of_random_things)\n",
    "\n",
    "#lower index is inclusive and upper index is exclusive i.e. slicing\n",
    "list_of_random_things[1:3]\n",
    "print(list_of_random_things)\n",
    "\n",
    "#inclusive\n",
    "list_of_random_things[2:]\n",
    "print(list_of_random_things)\n",
    "\n",
    "#\"in\" use to find word in string\n",
    "\"the\" in \"we the boys are happy\"\n",
    "\n",
    "#\"not\" in use to check no. in a list\n",
    "5 not in [1,2,4,6]\n",
    "\n",
    "#list we can change it '1' to 'one' i.e. mutable\n",
    "\n",
    "#string we can't change if we change then change complete string\n",
    "\n",
    "#len,max,min\n",
    "a = [1, 5, 8]\n",
    "b = [2, 6, 9, 10]\n",
    "c = [100, 200]\n",
    "print(max([len(a),len(b),len(c)]))\n",
    "print(min([len(a),len(b),len(c)]))\n",
    "\n",
    "#sorted and joint\n",
    "names = [\"Carol\", \"Albert\", \"Ben\", \"Donna\"]\n",
    "print(\"&\".join(sorted(names)))\n",
    "\n",
    "#append\n",
    "names.append(\"hero\")\n",
    "print(sorted(names))"
   ]
  },
  {
   "cell_type": "code",
   "execution_count": null,
   "metadata": {},
   "outputs": [],
   "source": [
    "#Tuple\n",
    "\n",
    "#location values\n",
    "location = (13.4125, 103.866667)\n",
    "\n",
    "#assign a variable name\n",
    "\n",
    "#dimension values\n",
    "dimensions = 52, 40, 100\n",
    "\n",
    "#assign variable name length,width,height to dimension\n",
    "\n"
   ]
  },
  {
   "cell_type": "code",
   "execution_count": null,
   "metadata": {},
   "outputs": [],
   "source": [
    "#Sets\n",
    "#it is use to remove duplicate object\n",
    "\n",
    "#string of numbers\n",
    "numbers = [1, 2, 6, 3, 1, 1, 6]\n",
    "\n",
    "#apply set function\n",
    "\n",
    "#pop method use to remove object\n"
   ]
  },
  {
   "cell_type": "code",
   "execution_count": 28,
   "metadata": {},
   "outputs": [
    {
     "name": "stdout",
     "output_type": "stream",
     "text": [
      "2\n",
      "{'hydrogen': 1, 'helium': 2, 'carbon': 6, 'lithium': 3}\n",
      "True\n"
     ]
    }
   ],
   "source": [
    "#Dictionaries\n",
    "#A dictionary is a mutable data type that stores mappings of unique keys to values\n",
    "elements = {\"hydrogen\": 1, \"helium\": 2, \"carbon\": 6}\n",
    "\n",
    "# print the value mapped to \"helium\"\n",
    "print(elements['helium'])\n",
    "\n",
    "# insert \"lithium\" with a value of 3 into the dictionary\n",
    "elements['lithium']=3\n",
    "print(elements)\n",
    "\n",
    "print('carbon' in elements)\n",
    "#get is similar to in method find object in dict\n",
    "\n",
    "#Identity operator"
   ]
  },
  {
   "cell_type": "code",
   "execution_count": 37,
   "metadata": {},
   "outputs": [
    {
     "name": "stdout",
     "output_type": "stream",
     "text": [
      "{'number': 2, 'weight': 4.002602, 'symbol': 'He'}\n",
      "1.00794\n",
      "{'hydrogen': {'number': 1, 'weight': 1.00794, 'symbol': 'H'}, 'helium': {'number': 2, 'weight': 4.002602, 'symbol': 'He'}}\n",
      "{'hydrogen': {'number': 1, 'weight': 1.00794, 'symbol': 'H'}, 'helium': {'number': 2, 'weight': 4.002602, 'symbol': 'He'}, 'oxygen': {'number': 8, 'weight': 15.999, 'symbol': 'O'}}\n"
     ]
    }
   ],
   "source": [
    "#Compound Data Structure\n",
    "elements = {\"hydrogen\": {\"number\": 1,\n",
    "                         \"weight\": 1.00794,\n",
    "                         \"symbol\": \"H\"},\n",
    "              \"helium\": {\"number\": 2,\n",
    "                         \"weight\": 4.002602,\n",
    "                         \"symbol\": \"He\"}}\n",
    "\n",
    "\n",
    "# get the helium dictionary\n",
    "print(elements['helium'])\n",
    "\n",
    "# get hydrogen's weight\n",
    "print(elements['hydrogen']['weight'])\n",
    "\n",
    "# create a new oxygen dictionary\n",
    "oxygen={\"number\":8,\"weight\":15.999,\"symbol\":\"O\"}\n",
    "print(elements)\n",
    "\n",
    "# assign 'oxygen' as a key to the elements dictionary\n",
    "elements['oxygen']=oxygen\n",
    "print(elements)\n"
   ]
  },
  {
   "cell_type": "code",
   "execution_count": null,
   "metadata": {},
   "outputs": [],
   "source": []
  }
 ],
 "metadata": {
  "kernelspec": {
   "display_name": "Python 3",
   "language": "python",
   "name": "python3"
  },
  "language_info": {
   "codemirror_mode": {
    "name": "ipython",
    "version": 3
   },
   "file_extension": ".py",
   "mimetype": "text/x-python",
   "name": "python",
   "nbconvert_exporter": "python",
   "pygments_lexer": "ipython3",
   "version": "3.7.6"
  }
 },
 "nbformat": 4,
 "nbformat_minor": 4
}
