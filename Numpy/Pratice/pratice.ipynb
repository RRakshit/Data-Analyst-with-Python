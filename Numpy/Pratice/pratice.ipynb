{
 "cells": [
  {
   "cell_type": "code",
   "execution_count": null,
   "metadata": {},
   "outputs": [],
   "source": [
    "#test 1"
   ]
  },
  {
   "cell_type": "code",
   "execution_count": 3,
   "metadata": {},
   "outputs": [
    {
     "name": "stdout",
     "output_type": "stream",
     "text": [
      "x= [1 2 3 4 5]\n",
      "the shape of element: (5,)\n",
      "the shape of element: <class 'numpy.ndarray'>\n",
      "the dtype of element: int32\n"
     ]
    }
   ],
   "source": [
    "# We import NumPy into Python\n",
    "import numpy as np\n",
    "\n",
    "# We create a 1D ndarray that contains only integers\n",
    "x=np.array([1,2,3,4,5])\n",
    "\n",
    "# Let's print the ndarray we just created using the print() command\n",
    "print('x=',x)\n",
    "\n",
    "# We print information about x\n",
    "print('the shape of element:',x.shape)\n",
    "print('the shape of element:',type(x))\n",
    "print(\"the dtype of element:\",x.dtype)"
   ]
  },
  {
   "cell_type": "code",
   "execution_count": null,
   "metadata": {},
   "outputs": [],
   "source": [
    "# We create a rank 1 ndarray that only contains strings\n",
    "x=np.array(['Hello ,World'])\n",
    "\n",
    "# We print x\n",
    "print()\n",
    "print('x=',x)\n",
    "print()\n",
    "\n",
    "# We print information about x shape type and dtype\n",
    "print(\"the shape of element:\",x.shape)\n",
    "print(\"the type of element:\",type(x))\n",
    "print(\"the dtype of element:\",x.dtype)"
   ]
  },
  {
   "cell_type": "code",
   "execution_count": null,
   "metadata": {},
   "outputs": [],
   "source": [
    "# We create a rank 1 ndarray from a Python list that contains integers and strings\n",
    "x=np.array([1,2,'Hello, World'])\n",
    "# We print the ndarray\n",
    "print(x)\n",
    "\n",
    "# We print information about x shape type and dtype\n",
    "print(\"the shape of element:\",x.shape)\n",
    "print(\"the type of element:\",type(x))\n",
    "print(\"the dtype of element:\",x.dtype)"
   ]
  },
  {
   "cell_type": "code",
   "execution_count": null,
   "metadata": {},
   "outputs": [],
   "source": [
    "# We create a rank 2 ndarray that only contains integers\n",
    "y=np.array([[1,2,3],[4,5,6],[7,8,9],[10,11,12]])\n",
    "\n",
    "# We print the ndarray\n",
    "print(y)\n",
    "\n",
    "# We print information about x shape type and dtype\n",
    "print(\"the shape of element:\",y.dtype)\n",
    "print(\"the type of element:\",type(y))\n",
    "print(\"the dtype of element:\",y.dtype)"
   ]
  },
  {
   "cell_type": "code",
   "execution_count": null,
   "metadata": {},
   "outputs": [],
   "source": [
    "# We create a rank 1 ndarray that contains integers\n",
    "x=np.array([1,4,5,4])\n",
    "\n",
    "# We create a rank 1 ndarray that contains floats\n",
    "y=np.array([12.12,3.3,2.22,54.5])\n",
    "# We create a rank 1 ndarray that contains integers and floats\n",
    "z=np.array([11,1,2.2,3.65])\n",
    "# We print the dtype of each ndarray\n",
    "print(\"the dtype of element is x:\",x.dtype)\n",
    "print(\"the dtype of element is y:\",y.dtype)\n",
    "print(\"the dtype of element is z:\",z.dtype)"
   ]
  },
  {
   "cell_type": "code",
   "execution_count": 2,
   "metadata": {},
   "outputs": [],
   "source": [
    "#Test 2"
   ]
  },
  {
   "cell_type": "code",
   "execution_count": 10,
   "metadata": {},
   "outputs": [
    {
     "name": "stdout",
     "output_type": "stream",
     "text": [
      "the first element:\n",
      " 1\n",
      "the last element:\n",
      " 5\n",
      "the first element:\n",
      " 5\n",
      "the last element:\n",
      " 1\n"
     ]
    }
   ],
   "source": [
    "# We create a rank 1 ndarray that contains integers from 1 to 5\n",
    "x=np.array([1,2,3,4,5])\n",
    "\n",
    "# Let's access some elements with positive indices\n",
    "print(\"the first element:\\n\",x[0])\n",
    "print(\"the last element:\\n\",x[4])\n",
    "\n",
    "# Let's access the same elements with negative indices\n",
    "print(\"the first element:\\n\",x[-1])\n",
    "print(\"the last element:\\n\",x[-5])\n"
   ]
  },
  {
   "cell_type": "code",
   "execution_count": 20,
   "metadata": {},
   "outputs": [
    {
     "name": "stdout",
     "output_type": "stream",
     "text": [
      "[ 1  2  3 20  5]\n"
     ]
    }
   ],
   "source": [
    "# We change the fourth element in x from 4 to 20\n",
    "x[3]=20\n",
    "print(x)"
   ]
  },
  {
   "cell_type": "code",
   "execution_count": 13,
   "metadata": {},
   "outputs": [
    {
     "name": "stdout",
     "output_type": "stream",
     "text": [
      "[[1 2 3]\n",
      " [4 5 6]\n",
      " [7 8 9]]\n",
      "the first element:\n",
      " 1\n",
      "the last element:\n",
      " 9\n"
     ]
    }
   ],
   "source": [
    "# We create a 3 x 3 rank 2 ndarray that contains integers from 1 to 9\n",
    "X=np.array([[1,2,3],[4,5,6],[7,8,9]])\n",
    "print(X)\n",
    "\n",
    "# Let's access some elements in X\n",
    "print(\"the first element:\\n\",X[0,0])\n",
    "print(\"the last element:\\n\",X[2,2])"
   ]
  },
  {
   "cell_type": "code",
   "execution_count": 14,
   "metadata": {},
   "outputs": [
    {
     "name": "stdout",
     "output_type": "stream",
     "text": [
      "[[20  2  3]\n",
      " [ 4  5  6]\n",
      " [ 7  8  9]]\n"
     ]
    }
   ],
   "source": [
    "# We change the (0,0) element in X from 1 to 20\n",
    "X[0,0]=20\n",
    "print(X)"
   ]
  },
  {
   "cell_type": "code",
   "execution_count": 21,
   "metadata": {},
   "outputs": [
    {
     "name": "stdout",
     "output_type": "stream",
     "text": [
      "\n",
      " [2 3 4]\n",
      "\n",
      " [[4 5 6]\n",
      " [7 8 9]]\n",
      "\n",
      " [[2]\n",
      " [5]\n",
      " [8]]\n"
     ]
    }
   ],
   "source": [
    "# We create a rank 1 ndarray \n",
    "x=np.array([1,2,3,4,5])\n",
    "# We create a rank 2 ndarray\n",
    "y=np.array([[1,2,3],[4,5,6],[7,8,9]])\n",
    "# We delete the first and last element of x\n",
    "v=np.delete(x,[0,4])\n",
    "print(\"\\n\",v)\n",
    "\n",
    "# We delete the first row of y\n",
    "s=np.delete(y,0,axis=0)\n",
    "print(\"\\n\",s)\n",
    "\n",
    "# We delete the first and last column of y\n",
    "a=np.delete(y,[0,2],axis=1)\n",
    "print(\"\\n\",a)"
   ]
  },
  {
   "cell_type": "code",
   "execution_count": 25,
   "metadata": {},
   "outputs": [
    {
     "name": "stdout",
     "output_type": "stream",
     "text": [
      "\n",
      " [1 2 3 4 5 6]\n",
      "\n",
      " [1 2 3 4 5 7 8]\n",
      "\n",
      " [1 2 3 4 5 6 7 8 9 7 8 9]\n",
      "\n",
      " [ 1  2  3  4  5  6  7  8  9  9 10]\n"
     ]
    }
   ],
   "source": [
    "# We append the integer 6 to x\n",
    "v=np.append(x,6)\n",
    "print(\"\\n\",v)\n",
    "# We append the integer 7 and 8 to x\n",
    "s=np.append(x,[7,8])\n",
    "print(\"\\n\",s)\n",
    "\n",
    "# We append a new row containing 7,8,9 to y\n",
    "g=np.append(y,[7,8,9])\n",
    "print(\"\\n\",g)\n",
    "\n",
    "# We append a new column containing 9 and 10 to y\n",
    "h=np.append(y,[[9],[10]])\n",
    "print(\"\\n\",h)"
   ]
  },
  {
   "cell_type": "code",
   "execution_count": 26,
   "metadata": {},
   "outputs": [],
   "source": [
    "#Test 3"
   ]
  },
  {
   "cell_type": "code",
   "execution_count": 52,
   "metadata": {},
   "outputs": [
    {
     "name": "stdout",
     "output_type": "stream",
     "text": [
      "[[ 0  1  2  3  4]\n",
      " [ 5  6  7  8  9]\n",
      " [10 11 12 13 14]\n",
      " [15 16 17 18 19]\n",
      " [20 21 22 23 24]]\n",
      "greater than 10:\n",
      " [11 12 13 14 15 16 17 18 19 20 21 22 23 24]\n",
      "less and equal to 7:\n",
      " [0 1 2 3 4 5 6 7]\n",
      "greater than 10 and less than 17:\n",
      " [11 12 13 14 15 16]\n",
      "[[ 0  1  2  3  4]\n",
      " [ 5  6  7  8  9]\n",
      " [10 -1 -1 -1 -1]\n",
      " [-1 -1 17 18 19]\n",
      " [20 21 22 23 24]]\n"
     ]
    }
   ],
   "source": [
    "# We create a 5 x 5 ndarray that contains integers from 0 to 24\n",
    "X=np.arange(25).reshape(5,5)\n",
    "print(X)\n",
    "\n",
    "# We use Boolean indexing to select elements in X: like greater 10 and less equal 7\n",
    "print(\"greater than 10:\\n\",X[X>10])\n",
    "print(\"less and equal to 7:\\n\",X[X<=7])\n",
    "print(\"greater than 10 and less than 17:\\n\",X[(X > 10) & (X < 17)])\n",
    "\n",
    "# We use Boolean indexing to assign the elements that are between 10 and 17 the value of -1\n",
    "X[( X > 10 ) & ( X < 17 )] = -1\n",
    "print(X)"
   ]
  },
  {
   "cell_type": "code",
   "execution_count": 36,
   "metadata": {},
   "outputs": [
    {
     "name": "stdout",
     "output_type": "stream",
     "text": [
      "element of x,y\n",
      " [2 4]\n",
      "all element \n",
      " [1 2 3 4 5 6 7 8]\n"
     ]
    }
   ],
   "source": [
    "# We create a rank 1 ndarray\n",
    "x = np.array([1,2,3,4,5])\n",
    "\n",
    "# We create a rank 1 ndarray\n",
    "y = np.array([6,7,2,8,4])\n",
    "\n",
    "# We use set operations to compare x and y: intersect,union\n",
    "print(\"element of x,y\\n\",np.intersect1d(x,y))\n",
    "print(\"all element \\n\",np.union1d(x,y))"
   ]
  },
  {
   "cell_type": "code",
   "execution_count": 55,
   "metadata": {},
   "outputs": [
    {
     "name": "stdout",
     "output_type": "stream",
     "text": [
      "[ 1  2  4 10  4  4  5  1 10  9]\n",
      "sorted value:\n",
      " [ 1  1  2  4  4  4  5  9 10 10]\n",
      "[ 1  2  4 10  4  4  5  1 10  9]\n"
     ]
    }
   ],
   "source": [
    "# We create an unsorted rank 1 ndarray\n",
    "x=np.random.randint(1,11,size=(10,))\n",
    "print(x)\n",
    "\n",
    "# We sort x and print the sorted array using sort as a function.\n",
    "a=np.sort(x)\n",
    "print(\"sorted value:\\n\",a)\n",
    "# We sort x but only keep the unique elements in x\n",
    "b=np.sort(np.unique(x))\n",
    "print(x)"
   ]
  },
  {
   "cell_type": "code",
   "execution_count": 30,
   "metadata": {},
   "outputs": [],
   "source": [
    "#Test 4"
   ]
  },
  {
   "cell_type": "code",
   "execution_count": 41,
   "metadata": {},
   "outputs": [
    {
     "name": "stdout",
     "output_type": "stream",
     "text": [
      "x+y [ 6.5  8.5 10.5 12.5]\n"
     ]
    },
    {
     "ename": "NameError",
     "evalue": "name 'subtract' is not defined",
     "output_type": "error",
     "traceback": [
      "\u001b[1;31m---------------------------------------------------------------------------\u001b[0m",
      "\u001b[1;31mNameError\u001b[0m                                 Traceback (most recent call last)",
      "\u001b[1;32m<ipython-input-41-5e166911acdf>\u001b[0m in \u001b[0;36m<module>\u001b[1;34m\u001b[0m\n\u001b[0;32m      5\u001b[0m \u001b[1;31m# We perfrom basic element-wise operations using arithmetic symbols and functions\u001b[0m\u001b[1;33m\u001b[0m\u001b[1;33m\u001b[0m\u001b[1;33m\u001b[0m\u001b[0m\n\u001b[0;32m      6\u001b[0m \u001b[0mprint\u001b[0m\u001b[1;33m(\u001b[0m\u001b[1;34m\"x+y\"\u001b[0m\u001b[1;33m,\u001b[0m\u001b[0mx\u001b[0m\u001b[1;33m+\u001b[0m\u001b[0my\u001b[0m\u001b[1;33m)\u001b[0m\u001b[1;33m\u001b[0m\u001b[1;33m\u001b[0m\u001b[0m\n\u001b[1;32m----> 7\u001b[1;33m \u001b[0mprint\u001b[0m\u001b[1;33m(\u001b[0m\u001b[1;34m\"sub\"\u001b[0m\u001b[1;33m,\u001b[0m\u001b[0msubtract\u001b[0m\u001b[1;33m(\u001b[0m\u001b[0mx\u001b[0m\u001b[1;33m,\u001b[0m\u001b[0my\u001b[0m\u001b[1;33m)\u001b[0m\u001b[1;33m)\u001b[0m\u001b[1;33m\u001b[0m\u001b[1;33m\u001b[0m\u001b[0m\n\u001b[0m",
      "\u001b[1;31mNameError\u001b[0m: name 'subtract' is not defined"
     ]
    }
   ],
   "source": [
    "# We create two rank 1 ndarrays\n",
    "x = np.array([1,2,3,4])\n",
    "y = np.array([5.5,6.5,7.5,8.5])\n",
    "\n",
    "# We perfrom basic element-wise operations using arithmetic symbols and functions\n",
    "print(\"x+y\",x+y)\n",
    "print(\"sub\",subtract(x,y))"
   ]
  },
  {
   "cell_type": "code",
   "execution_count": null,
   "metadata": {},
   "outputs": [],
   "source": []
  }
 ],
 "metadata": {
  "kernelspec": {
   "display_name": "Python 3",
   "language": "python",
   "name": "python3"
  },
  "language_info": {
   "codemirror_mode": {
    "name": "ipython",
    "version": 3
   },
   "file_extension": ".py",
   "mimetype": "text/x-python",
   "name": "python",
   "nbconvert_exporter": "python",
   "pygments_lexer": "ipython3",
   "version": "3.7.6"
  }
 },
 "nbformat": 4,
 "nbformat_minor": 4
}
