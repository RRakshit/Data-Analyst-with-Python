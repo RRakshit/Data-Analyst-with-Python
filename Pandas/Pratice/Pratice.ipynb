{
 "cells": [
  {
   "cell_type": "code",
   "execution_count": null,
   "metadata": {},
   "outputs": [],
   "source": [
    "#Test 1"
   ]
  },
  {
   "cell_type": "code",
   "execution_count": 1,
   "metadata": {},
   "outputs": [
    {
     "data": {
      "text/plain": [
       "eggs       30\n",
       "apples      6\n",
       "milk      Yes\n",
       "bread      No\n",
       "dtype: object"
      ]
     },
     "execution_count": 1,
     "metadata": {},
     "output_type": "execute_result"
    }
   ],
   "source": [
    "# We import Pandas as pd into Python\n",
    "import pandas as pd\n",
    "\n",
    "# We create a Pandas Series that stores a grocery list\n",
    "groceries = pd.Series(data = [30, 6, 'Yes', 'No'], index = ['eggs', 'apples', 'milk', 'bread'])\n",
    "\n",
    "# We display the Groceries Pandas Series\n",
    "groceries"
   ]
  },
  {
   "cell_type": "code",
   "execution_count": 2,
   "metadata": {},
   "outputs": [
    {
     "name": "stdout",
     "output_type": "stream",
     "text": [
      "shape of Groceries\n",
      " (4,)\n",
      "size of groceries\n",
      " 4\n",
      "value\n",
      " [30 6 'Yes' 'No']\n",
      "data\n",
      " Index(['eggs', 'apples', 'milk', 'bread'], dtype='object')\n"
     ]
    }
   ],
   "source": [
    "# We print some information about Groceries shape dimension\n",
    "print(\"shape of Groceries\\n\",groceries.shape)\n",
    "print(\"size of groceries\\n\",groceries.size)\n",
    "\n",
    "# We print the index and data of Groceries\n",
    "print(\"value\\n\",groceries.values)\n",
    "print(\"data\\n\",groceries.index)"
   ]
  },
  {
   "cell_type": "code",
   "execution_count": 3,
   "metadata": {},
   "outputs": [
    {
     "name": "stdout",
     "output_type": "stream",
     "text": [
      "False\n",
      "\n",
      " True\n"
     ]
    }
   ],
   "source": [
    "# We check whether bananas is a food item (an index) in Groceries\n",
    "a='banana' in groceries\n",
    "\n",
    "# We check whether bread is a food item (an index) in Groceries\n",
    "b='bread' in groceries\n",
    "print(a)\n",
    "print('\\n',b)\n"
   ]
  },
  {
   "cell_type": "code",
   "execution_count": null,
   "metadata": {},
   "outputs": [],
   "source": [
    "#Test 2"
   ]
  },
  {
   "cell_type": "code",
   "execution_count": 4,
   "metadata": {},
   "outputs": [
    {
     "name": "stdout",
     "output_type": "stream",
     "text": [
      "value of eggs:\t 30\n"
     ]
    }
   ],
   "source": [
    "# We use a single index label\n",
    "print('value of eggs:\\t',groceries['eggs'])"
   ]
  },
  {
   "cell_type": "code",
   "execution_count": 7,
   "metadata": {},
   "outputs": [
    {
     "name": "stdout",
     "output_type": "stream",
     "text": [
      "value of bread and milk bread     No\n",
      "milk     Yes\n",
      "dtype: object\n",
      "check milk in groceries: Yes\n",
      "value of eggs: 30\n"
     ]
    }
   ],
   "source": [
    "# we can access multiple index labels\n",
    "print('value of bread and milk',groceries[['bread','milk']])\n",
    "# we use multiple numerical indices\n",
    "print(\"check milk in groceries:\",groceries[2])\n",
    "\n",
    "# We use a negative numerical index\n",
    "print(\"value of eggs:\",groceries[-4])"
   ]
  },
  {
   "cell_type": "code",
   "execution_count": 8,
   "metadata": {},
   "outputs": [
    {
     "data": {
      "text/plain": [
       "apples     10\n",
       "oranges     6\n",
       "bananas     3\n",
       "dtype: int64"
      ]
     },
     "execution_count": 8,
     "metadata": {},
     "output_type": "execute_result"
    }
   ],
   "source": [
    "# We create a Pandas Series that stores a grocery list of just fruits\n",
    "fruits= pd.Series(data = [10, 6, 3,], index = ['apples', 'oranges', 'bananas'])\n",
    "\n",
    "# We display the fruits Pandas Series\n",
    "fruits"
   ]
  },
  {
   "cell_type": "code",
   "execution_count": 12,
   "metadata": {},
   "outputs": [
    {
     "name": "stdout",
     "output_type": "stream",
     "text": [
      "The value of fruit add: apples     12\n",
      "oranges     8\n",
      "bananas     5\n",
      "dtype: int64\n",
      "we add bananas +2= 5\n",
      "apples and oranges: apples     20\n",
      "oranges    12\n",
      "dtype: int64\n"
     ]
    }
   ],
   "source": [
    "# We perform basic element-wise operations using arithmetic symbols\n",
    "print(\"The value of fruit add:\",fruits + 2)\n",
    "\n",
    "# We add 2 only to the bananas\n",
    "print(\"we add bananas +2=\",fruits['bananas'] + 2)\n",
    "\n",
    "# We multiply apples and oranges by 2\n",
    "print(\"apples and oranges:\",fruits[['apples','oranges']] * 2)"
   ]
  },
  {
   "cell_type": "code",
   "execution_count": null,
   "metadata": {},
   "outputs": [],
   "source": []
  }
 ],
 "metadata": {
  "kernelspec": {
   "display_name": "Python 3",
   "language": "python",
   "name": "python3"
  },
  "language_info": {
   "codemirror_mode": {
    "name": "ipython",
    "version": 3
   },
   "file_extension": ".py",
   "mimetype": "text/x-python",
   "name": "python",
   "nbconvert_exporter": "python",
   "pygments_lexer": "ipython3",
   "version": "3.7.6"
  }
 },
 "nbformat": 4,
 "nbformat_minor": 4
}
